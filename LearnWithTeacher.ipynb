{
 "cells": [
  {
   "cell_type": "markdown",
   "metadata": {
    "toc": true
   },
   "source": [
    "<h1>Содержание<span class=\"tocSkip\"></span></h1>\n",
    "<div class=\"toc\"><ul class=\"toc-item\"><li><span><a href=\"#1.1-Загрузка-данных\" data-toc-modified-id=\"1.1-Загрузка-данных-1\"><span class=\"toc-item-num\">1&nbsp;&nbsp;</span>1.1 Загрузка данных</a></span></li><li><span><a href=\"#1.2-Подготовка-признаков\" data-toc-modified-id=\"1.2-Подготовка-признаков-2\"><span class=\"toc-item-num\">2&nbsp;&nbsp;</span>1.2 Подготовка признаков</a></span><ul class=\"toc-item\"><li><span><a href=\"#Выводы\" data-toc-modified-id=\"Выводы-2.1\"><span class=\"toc-item-num\">2.1&nbsp;&nbsp;</span>Выводы</a></span></li></ul></li><li><span><a href=\"#2.1-Решающее-дерево\" data-toc-modified-id=\"2.1-Решающее-дерево-3\"><span class=\"toc-item-num\">3&nbsp;&nbsp;</span>2.1 Решающее дерево</a></span></li><li><span><a href=\"#2.2-Случайный-лес\" data-toc-modified-id=\"2.2-Случайный-лес-4\"><span class=\"toc-item-num\">4&nbsp;&nbsp;</span>2.2 Случайный лес</a></span></li><li><span><a href=\"#2.3-Логистическая-регрессия\" data-toc-modified-id=\"2.3-Логистическая-регрессия-5\"><span class=\"toc-item-num\">5&nbsp;&nbsp;</span>2.3 Логистическая регрессия</a></span><ul class=\"toc-item\"><li><span><a href=\"#Выводы\" data-toc-modified-id=\"Выводы-5.1\"><span class=\"toc-item-num\">5.1&nbsp;&nbsp;</span>Выводы</a></span></li></ul></li><li><span><a href=\"#3.1-Взвешивание-классов\" data-toc-modified-id=\"3.1-Взвешивание-классов-6\"><span class=\"toc-item-num\">6&nbsp;&nbsp;</span>3.1 Взвешивание классов</a></span></li><li><span><a href=\"#3.2-Upsampling-и-downsampling\" data-toc-modified-id=\"3.2-Upsampling-и-downsampling-7\"><span class=\"toc-item-num\">7&nbsp;&nbsp;</span>3.2 Upsampling и downsampling</a></span><ul class=\"toc-item\"><li><span><a href=\"#Выводы\" data-toc-modified-id=\"Выводы-7.1\"><span class=\"toc-item-num\">7.1&nbsp;&nbsp;</span>Выводы</a></span></li><li><span><a href=\"#Выводы\" data-toc-modified-id=\"Выводы-7.2\"><span class=\"toc-item-num\">7.2&nbsp;&nbsp;</span>Выводы</a></span></li></ul></li></ul></div>"
   ]
  },
  {
   "cell_type": "markdown",
   "metadata": {},
   "source": [
    "# Отток клиентов"
   ]
  },
  {
   "cell_type": "markdown",
   "metadata": {},
   "source": [
    "Из «Бета-Банка» стали уходить клиенты. Каждый месяц. Немного, но заметно. Банковские маркетологи посчитали: сохранять текущих клиентов дешевле, чем привлекать новых.\n",
    "\n",
    "Нужно спрогнозировать, уйдёт клиент из банка в ближайшее время или нет. Вам предоставлены исторические данные о поведении клиентов и расторжении договоров с банком. \n",
    "\n",
    "Постройте модель с предельно большим значением *F1*-меры. Чтобы сдать проект успешно, нужно довести метрику до 0.59. Проверьте *F1*-меру на тестовой выборке самостоятельно.\n",
    "\n",
    "Дополнительно измеряйте *AUC-ROC*, сравнивайте её значение с *F1*-мерой.\n",
    "\n",
    "Источник данных: [https://www.kaggle.com/barelydedicated/bank-customer-churn-modeling](https://www.kaggle.com/barelydedicated/bank-customer-churn-modeling)"
   ]
  },
  {
   "cell_type": "markdown",
   "metadata": {},
   "source": [
    "# 1. Подготовка данных"
   ]
  },
  {
   "cell_type": "markdown",
   "metadata": {},
   "source": [
    "## 1.1 Загрузка данных"
   ]
  },
  {
   "cell_type": "markdown",
   "metadata": {},
   "source": [
    "Подключаем библиотеки:\n",
    "- `pandas` - для работы с таблицами  \n",
    "- `seaborn` - для визуализации данных\n",
    "- `display` - для вывода табличных данных\n",
    "- `sklearn` - инструменты машинного обучения (модели классификации, метрики для исследования качества моделей, разделение данных на тренировочные, валидационные, тестовые выборки)"
   ]
  },
  {
   "cell_type": "code",
   "execution_count": 1,
   "metadata": {},
   "outputs": [],
   "source": [
    "import pandas as pd\n",
    "import numpy as np\n",
    "import matplotlib.pyplot as plt\n",
    "import seaborn as sns\n",
    "from IPython.display import display\n",
    "\n",
    "from sklearn.preprocessing import StandardScaler\n",
    "from sklearn.model_selection import train_test_split\n",
    "from sklearn.tree import DecisionTreeClassifier\n",
    "from sklearn.linear_model import LogisticRegression\n",
    "from sklearn.ensemble import RandomForestClassifier, RandomForestRegressor\n",
    "from sklearn.linear_model import LinearRegression\n",
    "from sklearn.neighbors import KNeighborsClassifier\n",
    "from sklearn.svm import SVC\n",
    "from sklearn.metrics import accuracy_score, f1_score, roc_auc_score, r2_score\n",
    "from sklearn.utils import shuffle\n",
    "\n",
    "import warnings\n",
    "warnings.filterwarnings('ignore')"
   ]
  },
  {
   "cell_type": "markdown",
   "metadata": {},
   "source": [
    "Загрузим данные из файла `Churn.csv`, выведем первые 10 строк таблицы для первого взгляда на данные.  \n",
    "Также с помощью метода info() изучим структуру таблицы: типы данных, количество строк, столбцов, пропущенных данных."
   ]
  },
  {
   "cell_type": "code",
   "execution_count": 2,
   "metadata": {},
   "outputs": [
    {
     "data": {
      "text/html": [
       "<div>\n",
       "<style scoped>\n",
       "    .dataframe tbody tr th:only-of-type {\n",
       "        vertical-align: middle;\n",
       "    }\n",
       "\n",
       "    .dataframe tbody tr th {\n",
       "        vertical-align: top;\n",
       "    }\n",
       "\n",
       "    .dataframe thead th {\n",
       "        text-align: right;\n",
       "    }\n",
       "</style>\n",
       "<table border=\"1\" class=\"dataframe\">\n",
       "  <thead>\n",
       "    <tr style=\"text-align: right;\">\n",
       "      <th></th>\n",
       "      <th>RowNumber</th>\n",
       "      <th>CustomerId</th>\n",
       "      <th>Surname</th>\n",
       "      <th>CreditScore</th>\n",
       "      <th>Geography</th>\n",
       "      <th>Gender</th>\n",
       "      <th>Age</th>\n",
       "      <th>Tenure</th>\n",
       "      <th>Balance</th>\n",
       "      <th>NumOfProducts</th>\n",
       "      <th>HasCrCard</th>\n",
       "      <th>IsActiveMember</th>\n",
       "      <th>EstimatedSalary</th>\n",
       "      <th>Exited</th>\n",
       "    </tr>\n",
       "  </thead>\n",
       "  <tbody>\n",
       "    <tr>\n",
       "      <th>0</th>\n",
       "      <td>1</td>\n",
       "      <td>15634602</td>\n",
       "      <td>Hargrave</td>\n",
       "      <td>619</td>\n",
       "      <td>France</td>\n",
       "      <td>Female</td>\n",
       "      <td>42</td>\n",
       "      <td>2.0</td>\n",
       "      <td>0.00</td>\n",
       "      <td>1</td>\n",
       "      <td>1</td>\n",
       "      <td>1</td>\n",
       "      <td>101348.88</td>\n",
       "      <td>1</td>\n",
       "    </tr>\n",
       "    <tr>\n",
       "      <th>1</th>\n",
       "      <td>2</td>\n",
       "      <td>15647311</td>\n",
       "      <td>Hill</td>\n",
       "      <td>608</td>\n",
       "      <td>Spain</td>\n",
       "      <td>Female</td>\n",
       "      <td>41</td>\n",
       "      <td>1.0</td>\n",
       "      <td>83807.86</td>\n",
       "      <td>1</td>\n",
       "      <td>0</td>\n",
       "      <td>1</td>\n",
       "      <td>112542.58</td>\n",
       "      <td>0</td>\n",
       "    </tr>\n",
       "    <tr>\n",
       "      <th>2</th>\n",
       "      <td>3</td>\n",
       "      <td>15619304</td>\n",
       "      <td>Onio</td>\n",
       "      <td>502</td>\n",
       "      <td>France</td>\n",
       "      <td>Female</td>\n",
       "      <td>42</td>\n",
       "      <td>8.0</td>\n",
       "      <td>159660.80</td>\n",
       "      <td>3</td>\n",
       "      <td>1</td>\n",
       "      <td>0</td>\n",
       "      <td>113931.57</td>\n",
       "      <td>1</td>\n",
       "    </tr>\n",
       "    <tr>\n",
       "      <th>3</th>\n",
       "      <td>4</td>\n",
       "      <td>15701354</td>\n",
       "      <td>Boni</td>\n",
       "      <td>699</td>\n",
       "      <td>France</td>\n",
       "      <td>Female</td>\n",
       "      <td>39</td>\n",
       "      <td>1.0</td>\n",
       "      <td>0.00</td>\n",
       "      <td>2</td>\n",
       "      <td>0</td>\n",
       "      <td>0</td>\n",
       "      <td>93826.63</td>\n",
       "      <td>0</td>\n",
       "    </tr>\n",
       "    <tr>\n",
       "      <th>4</th>\n",
       "      <td>5</td>\n",
       "      <td>15737888</td>\n",
       "      <td>Mitchell</td>\n",
       "      <td>850</td>\n",
       "      <td>Spain</td>\n",
       "      <td>Female</td>\n",
       "      <td>43</td>\n",
       "      <td>2.0</td>\n",
       "      <td>125510.82</td>\n",
       "      <td>1</td>\n",
       "      <td>1</td>\n",
       "      <td>1</td>\n",
       "      <td>79084.10</td>\n",
       "      <td>0</td>\n",
       "    </tr>\n",
       "    <tr>\n",
       "      <th>5</th>\n",
       "      <td>6</td>\n",
       "      <td>15574012</td>\n",
       "      <td>Chu</td>\n",
       "      <td>645</td>\n",
       "      <td>Spain</td>\n",
       "      <td>Male</td>\n",
       "      <td>44</td>\n",
       "      <td>8.0</td>\n",
       "      <td>113755.78</td>\n",
       "      <td>2</td>\n",
       "      <td>1</td>\n",
       "      <td>0</td>\n",
       "      <td>149756.71</td>\n",
       "      <td>1</td>\n",
       "    </tr>\n",
       "    <tr>\n",
       "      <th>6</th>\n",
       "      <td>7</td>\n",
       "      <td>15592531</td>\n",
       "      <td>Bartlett</td>\n",
       "      <td>822</td>\n",
       "      <td>France</td>\n",
       "      <td>Male</td>\n",
       "      <td>50</td>\n",
       "      <td>7.0</td>\n",
       "      <td>0.00</td>\n",
       "      <td>2</td>\n",
       "      <td>1</td>\n",
       "      <td>1</td>\n",
       "      <td>10062.80</td>\n",
       "      <td>0</td>\n",
       "    </tr>\n",
       "    <tr>\n",
       "      <th>7</th>\n",
       "      <td>8</td>\n",
       "      <td>15656148</td>\n",
       "      <td>Obinna</td>\n",
       "      <td>376</td>\n",
       "      <td>Germany</td>\n",
       "      <td>Female</td>\n",
       "      <td>29</td>\n",
       "      <td>4.0</td>\n",
       "      <td>115046.74</td>\n",
       "      <td>4</td>\n",
       "      <td>1</td>\n",
       "      <td>0</td>\n",
       "      <td>119346.88</td>\n",
       "      <td>1</td>\n",
       "    </tr>\n",
       "    <tr>\n",
       "      <th>8</th>\n",
       "      <td>9</td>\n",
       "      <td>15792365</td>\n",
       "      <td>He</td>\n",
       "      <td>501</td>\n",
       "      <td>France</td>\n",
       "      <td>Male</td>\n",
       "      <td>44</td>\n",
       "      <td>4.0</td>\n",
       "      <td>142051.07</td>\n",
       "      <td>2</td>\n",
       "      <td>0</td>\n",
       "      <td>1</td>\n",
       "      <td>74940.50</td>\n",
       "      <td>0</td>\n",
       "    </tr>\n",
       "    <tr>\n",
       "      <th>9</th>\n",
       "      <td>10</td>\n",
       "      <td>15592389</td>\n",
       "      <td>H?</td>\n",
       "      <td>684</td>\n",
       "      <td>France</td>\n",
       "      <td>Male</td>\n",
       "      <td>27</td>\n",
       "      <td>2.0</td>\n",
       "      <td>134603.88</td>\n",
       "      <td>1</td>\n",
       "      <td>1</td>\n",
       "      <td>1</td>\n",
       "      <td>71725.73</td>\n",
       "      <td>0</td>\n",
       "    </tr>\n",
       "  </tbody>\n",
       "</table>\n",
       "</div>"
      ],
      "text/plain": [
       "   RowNumber  CustomerId   Surname  CreditScore Geography  Gender  Age  \\\n",
       "0          1    15634602  Hargrave          619    France  Female   42   \n",
       "1          2    15647311      Hill          608     Spain  Female   41   \n",
       "2          3    15619304      Onio          502    France  Female   42   \n",
       "3          4    15701354      Boni          699    France  Female   39   \n",
       "4          5    15737888  Mitchell          850     Spain  Female   43   \n",
       "5          6    15574012       Chu          645     Spain    Male   44   \n",
       "6          7    15592531  Bartlett          822    France    Male   50   \n",
       "7          8    15656148    Obinna          376   Germany  Female   29   \n",
       "8          9    15792365        He          501    France    Male   44   \n",
       "9         10    15592389        H?          684    France    Male   27   \n",
       "\n",
       "   Tenure    Balance  NumOfProducts  HasCrCard  IsActiveMember  \\\n",
       "0     2.0       0.00              1          1               1   \n",
       "1     1.0   83807.86              1          0               1   \n",
       "2     8.0  159660.80              3          1               0   \n",
       "3     1.0       0.00              2          0               0   \n",
       "4     2.0  125510.82              1          1               1   \n",
       "5     8.0  113755.78              2          1               0   \n",
       "6     7.0       0.00              2          1               1   \n",
       "7     4.0  115046.74              4          1               0   \n",
       "8     4.0  142051.07              2          0               1   \n",
       "9     2.0  134603.88              1          1               1   \n",
       "\n",
       "   EstimatedSalary  Exited  \n",
       "0        101348.88       1  \n",
       "1        112542.58       0  \n",
       "2        113931.57       1  \n",
       "3         93826.63       0  \n",
       "4         79084.10       0  \n",
       "5        149756.71       1  \n",
       "6         10062.80       0  \n",
       "7        119346.88       1  \n",
       "8         74940.50       0  \n",
       "9         71725.73       0  "
      ]
     },
     "metadata": {},
     "output_type": "display_data"
    },
    {
     "name": "stdout",
     "output_type": "stream",
     "text": [
      "<class 'pandas.core.frame.DataFrame'>\n",
      "RangeIndex: 10000 entries, 0 to 9999\n",
      "Data columns (total 14 columns):\n",
      " #   Column           Non-Null Count  Dtype  \n",
      "---  ------           --------------  -----  \n",
      " 0   RowNumber        10000 non-null  int64  \n",
      " 1   CustomerId       10000 non-null  int64  \n",
      " 2   Surname          10000 non-null  object \n",
      " 3   CreditScore      10000 non-null  int64  \n",
      " 4   Geography        10000 non-null  object \n",
      " 5   Gender           10000 non-null  object \n",
      " 6   Age              10000 non-null  int64  \n",
      " 7   Tenure           9091 non-null   float64\n",
      " 8   Balance          10000 non-null  float64\n",
      " 9   NumOfProducts    10000 non-null  int64  \n",
      " 10  HasCrCard        10000 non-null  int64  \n",
      " 11  IsActiveMember   10000 non-null  int64  \n",
      " 12  EstimatedSalary  10000 non-null  float64\n",
      " 13  Exited           10000 non-null  int64  \n",
      "dtypes: float64(3), int64(8), object(3)\n",
      "memory usage: 1.1+ MB\n"
     ]
    }
   ],
   "source": [
    "# читаем данные из .csv файла с помощью метода read_csv()\n",
    "data = pd.read_csv(r'/datasets/Churn.csv')\n",
    "# выведем первые 10 строк таблицы с помощью метода head()\n",
    "display(data.head(10))\n",
    "# с помощью метода info() изучим структуры таблицы: типы данных, количество строк, столбцов, пропущенных данных.\n",
    "data.info()"
   ]
  },
  {
   "cell_type": "markdown",
   "metadata": {},
   "source": [
    "## 1.2 Подготовка признаков"
   ]
  },
  {
   "cell_type": "markdown",
   "metadata": {},
   "source": [
    "Признаки `RowNumber`, `CustomerId` и `Surname` нам не понадобятся, так как это уникальные значения которые не нужны будут нам для классификации"
   ]
  },
  {
   "cell_type": "code",
   "execution_count": 3,
   "metadata": {
    "scrolled": false
   },
   "outputs": [],
   "source": [
    "data = data.drop(['RowNumber', 'CustomerId', 'Surname'], axis=1)"
   ]
  },
  {
   "cell_type": "markdown",
   "metadata": {},
   "source": [
    "\n",
    "Посмотрим на распределения числовых признаков"
   ]
  },
  {
   "cell_type": "code",
   "execution_count": 4,
   "metadata": {},
   "outputs": [],
   "source": [
    "def show_hists(df, data_label, num_bins, rug=False, log_scale=False):\n",
    "    \"\"\"\n",
    "    input: data - данные для построения гистограммы\n",
    "           data_label - описание данных\n",
    "           num_bins - количество ячеек\n",
    "    output: None\n",
    "    description: Функция строит гистограмму и boxplot для выбранного параметра:\n",
    "                - Плотность распределения (методом distplot() библиотеки seaborn)\n",
    "                - Boxplot (метод boxplot() библиотеки seaborn)\n",
    "    \"\"\"\n",
    "    sns.set()\n",
    "    f, axes = plt.subplots(1, 2, figsize=(16, 4))\n",
    "    axes[0].set_title(data_label + \". Плотность распределения\", fontsize=18)\n",
    "    axes[0].set_ylabel('плотность', fontsize=15)\n",
    "    sns.distplot(df, bins=num_bins, rug=rug, ax=axes[0])\n",
    "    axes[1].set_title(data_label + \". Boxplot\", fontsize=18)\n",
    "    sns.boxplot(data=data, x=data_label, ax=axes[1])\n",
    "    plt.show()"
   ]
  },
  {
   "cell_type": "code",
   "execution_count": 5,
   "metadata": {
    "scrolled": false
   },
   "outputs": [
    {
     "data": {
      "image/png": "[encoded data removed]",
      "text/plain": [
       "<Figure size 1152x288 with 2 Axes>"
      ]
     },
     "metadata": {},
     "output_type": "display_data"
    },
    {
     "data": {
      "image/png": "[encoded data removed]",
      "text/plain": [
       "<Figure size 1152x288 with 2 Axes>"
      ]
     },
     "metadata": {},
     "output_type": "display_data"
    },
    {
     "data": {
      "image/png": "[encoded data removed]",
      "text/plain": [
       "<Figure size 1152x288 with 2 Axes>"
      ]
     },
     "metadata": {},
     "output_type": "display_data"
    },
    {
     "data": {
      "image/png": "[encoded data removed]",
      "text/plain": [
       "<Figure size 1152x288 with 2 Axes>"
      ]
     },
     "metadata": {},
     "output_type": "display_data"
    }
   ],
   "source": [
    "numerics = ['CreditScore', 'Age', 'Balance', 'EstimatedSalary']\n",
    "for column in numerics:\n",
    "    show_hists(data[column], column, num_bins=30)"
   ]
  },
  {
   "cell_type": "markdown",
   "metadata": {},
   "source": [
    "- В признаках `CreditScore`, `Age` есть выбросы. Найдём их долю от общего количества данных."
   ]
  },
  {
   "cell_type": "code",
   "execution_count": 6,
   "metadata": {},
   "outputs": [
    {
     "name": "stdout",
     "output_type": "stream",
     "text": [
      "Доля выбросов в параметре Age: 3.59 %\n"
     ]
    }
   ],
   "source": [
    "# квантили считаем методом quantile()\n",
    "# граница выбросов считается по формуле  [ q.75 + (q.75 - q.25)*1.5 ]\n",
    "max_age = (data['Age'].quantile(0.75) - data['Age'].quantile(0.25))*1.5 + data['Age'].quantile(0.75)\n",
    "rate = round(len(data.loc[data['Age'] > max_age]) / len(data) * 100, 2)\n",
    "print('Доля выбросов в параметре {}: {} %'.format('Age', rate))"
   ]
  },
  {
   "cell_type": "code",
   "execution_count": 7,
   "metadata": {},
   "outputs": [
    {
     "name": "stdout",
     "output_type": "stream",
     "text": [
      "Доля выбросов в параметре CreditScore: 0.15 %\n"
     ]
    }
   ],
   "source": [
    "# граница выбросов считается по формуле  [ q.25 - (q.75 - q.25)*1.5 ]\n",
    "min_score = data['CreditScore'].quantile(0.25) - \\\n",
    "            (data['CreditScore'].quantile(0.75) - data['CreditScore'].quantile(0.25))*1.5\n",
    "rate = round(len(data.loc[data['CreditScore'] < min_score]) / len(data) * 100, 2)\n",
    "print('Доля выбросов в параметре {}: {} %'.format('CreditScore', rate))"
   ]
  },
  {
   "cell_type": "markdown",
   "metadata": {},
   "source": [
    "Общая доля выбросов небольшая (меньше 4%). Не будем пока их удалять."
   ]
  },
  {
   "cell_type": "markdown",
   "metadata": {},
   "source": [
    "- К числовым признакам `CreditScore`, `Age`, `Balance`, `EstimatedSalary` применим масштабирование с помощью `StandardScaler` библиотеки `sklearn`"
   ]
  },
  {
   "cell_type": "code",
   "execution_count": 8,
   "metadata": {},
   "outputs": [],
   "source": [
    "scaler = StandardScaler()\n",
    "data[numerics] = scaler.fit_transform(data[numerics])"
   ]
  },
  {
   "cell_type": "markdown",
   "metadata": {},
   "source": [
    " Посмотрим на распределения категориальных признаков."
   ]
  },
  {
   "cell_type": "code",
   "execution_count": 9,
   "metadata": {},
   "outputs": [],
   "source": [
    "def show_hists(df, data_label1, data_label2=''):\n",
    "    \"\"\"\n",
    "    input: data - данные для построения гистограммы\n",
    "           data_label1,2 - названия признаков\n",
    "    output: None\n",
    "    description: Функция строит countplot для двух признаков\n",
    "    \"\"\"\n",
    "    sns.set()\n",
    "    f, axes = plt.subplots(1, 2, figsize=(16, 4))\n",
    "    axes[0].set_title(data_label1 + \". CountPlot\", fontsize=18)\n",
    "    sns.countplot(data=df, x=data_label1, ax=axes[0])\n",
    "    if data_label2 != '':\n",
    "        axes[1].set_title(data_label2 + \". CountPlot\", fontsize=18)\n",
    "        sns.countplot(data=df, x=data_label2, ax=axes[1])\n",
    "    plt.show()"
   ]
  },
  {
   "cell_type": "code",
   "execution_count": 10,
   "metadata": {},
   "outputs": [
    {
     "data": {
      "image/png": "[encoded data removed]",
      "text/plain": [
       "<Figure size 1152x288 with 2 Axes>"
      ]
     },
     "metadata": {},
     "output_type": "display_data"
    },
    {
     "data": {
      "image/png": "[encoded data removed]",
      "text/plain": [
       "<Figure size 1152x288 with 2 Axes>"
      ]
     },
     "metadata": {},
     "output_type": "display_data"
    },
    {
     "data": {
      "image/png": "[encoded data removed]",
      "text/plain": [
       "<Figure size 1152x288 with 2 Axes>"
      ]
     },
     "metadata": {},
     "output_type": "display_data"
    },
    {
     "data": {
      "image/png": "[encoded data removed]",
      "text/plain": [
       "<Figure size 1152x288 with 2 Axes>"
      ]
     },
     "metadata": {},
     "output_type": "display_data"
    }
   ],
   "source": [
    "categoricals = ['Geography', 'Gender', 'Tenure', 'NumOfProducts', 'HasCrCard', 'IsActiveMember', 'Exited', '']\n",
    "for i in range(len(categoricals)//2):\n",
    "    show_hists(data, categoricals[2*i], categoricals[2*i+1])"
   ]
  },
  {
   "cell_type": "markdown",
   "metadata": {},
   "source": [
    "- Целевой признак `Exited` распределён примерно 4:1.\n",
    "- Количество категорий в признаках `Geography`, `Gender` небольшое. Преобразуем их методом One-Hot Encoding."
   ]
  },
  {
   "cell_type": "code",
   "execution_count": 11,
   "metadata": {},
   "outputs": [],
   "source": [
    "# для преобразования воспользуемся методом pd.get_dummies\n",
    "# параметр drop_first=True для удаления избыточного столбца данных\n",
    "data = pd.get_dummies(data, drop_first=True)"
   ]
  },
  {
   "cell_type": "markdown",
   "metadata": {},
   "source": [
    "Преобразуем типы данных признаков `NumOfProducts`, `HasCrCard`, `IsActiveMember`, `Exited` в `int8` для экономии места."
   ]
  },
  {
   "cell_type": "code",
   "execution_count": 12,
   "metadata": {},
   "outputs": [],
   "source": [
    "for column in ['NumOfProducts', 'HasCrCard', 'IsActiveMember', 'Exited']:\n",
    "    data[column] = data[column].astype('int8')"
   ]
  },
  {
   "cell_type": "code",
   "execution_count": 13,
   "metadata": {},
   "outputs": [
    {
     "data": {
      "text/html": [
       "<div>\n",
       "<style scoped>\n",
       "    .dataframe tbody tr th:only-of-type {\n",
       "        vertical-align: middle;\n",
       "    }\n",
       "\n",
       "    .dataframe tbody tr th {\n",
       "        vertical-align: top;\n",
       "    }\n",
       "\n",
       "    .dataframe thead th {\n",
       "        text-align: right;\n",
       "    }\n",
       "</style>\n",
       "<table border=\"1\" class=\"dataframe\">\n",
       "  <thead>\n",
       "    <tr style=\"text-align: right;\">\n",
       "      <th></th>\n",
       "      <th>CreditScore</th>\n",
       "      <th>Age</th>\n",
       "      <th>Tenure</th>\n",
       "      <th>Balance</th>\n",
       "      <th>NumOfProducts</th>\n",
       "      <th>HasCrCard</th>\n",
       "      <th>IsActiveMember</th>\n",
       "      <th>EstimatedSalary</th>\n",
       "      <th>Exited</th>\n",
       "      <th>Geography_Germany</th>\n",
       "      <th>Geography_Spain</th>\n",
       "      <th>Gender_Male</th>\n",
       "    </tr>\n",
       "  </thead>\n",
       "  <tbody>\n",
       "    <tr>\n",
       "      <th>0</th>\n",
       "      <td>-0.326221</td>\n",
       "      <td>0.293517</td>\n",
       "      <td>2.0</td>\n",
       "      <td>-1.225848</td>\n",
       "      <td>1</td>\n",
       "      <td>1</td>\n",
       "      <td>1</td>\n",
       "      <td>0.021886</td>\n",
       "      <td>1</td>\n",
       "      <td>0</td>\n",
       "      <td>0</td>\n",
       "      <td>0</td>\n",
       "    </tr>\n",
       "    <tr>\n",
       "      <th>1</th>\n",
       "      <td>-0.440036</td>\n",
       "      <td>0.198164</td>\n",
       "      <td>1.0</td>\n",
       "      <td>0.117350</td>\n",
       "      <td>1</td>\n",
       "      <td>0</td>\n",
       "      <td>1</td>\n",
       "      <td>0.216534</td>\n",
       "      <td>0</td>\n",
       "      <td>0</td>\n",
       "      <td>1</td>\n",
       "      <td>0</td>\n",
       "    </tr>\n",
       "    <tr>\n",
       "      <th>2</th>\n",
       "      <td>-1.536794</td>\n",
       "      <td>0.293517</td>\n",
       "      <td>8.0</td>\n",
       "      <td>1.333053</td>\n",
       "      <td>3</td>\n",
       "      <td>1</td>\n",
       "      <td>0</td>\n",
       "      <td>0.240687</td>\n",
       "      <td>1</td>\n",
       "      <td>0</td>\n",
       "      <td>0</td>\n",
       "      <td>0</td>\n",
       "    </tr>\n",
       "    <tr>\n",
       "      <th>3</th>\n",
       "      <td>0.501521</td>\n",
       "      <td>0.007457</td>\n",
       "      <td>1.0</td>\n",
       "      <td>-1.225848</td>\n",
       "      <td>2</td>\n",
       "      <td>0</td>\n",
       "      <td>0</td>\n",
       "      <td>-0.108918</td>\n",
       "      <td>0</td>\n",
       "      <td>0</td>\n",
       "      <td>0</td>\n",
       "      <td>0</td>\n",
       "    </tr>\n",
       "    <tr>\n",
       "      <th>4</th>\n",
       "      <td>2.063884</td>\n",
       "      <td>0.388871</td>\n",
       "      <td>2.0</td>\n",
       "      <td>0.785728</td>\n",
       "      <td>1</td>\n",
       "      <td>1</td>\n",
       "      <td>1</td>\n",
       "      <td>-0.365276</td>\n",
       "      <td>0</td>\n",
       "      <td>0</td>\n",
       "      <td>1</td>\n",
       "      <td>0</td>\n",
       "    </tr>\n",
       "    <tr>\n",
       "      <th>5</th>\n",
       "      <td>-0.057205</td>\n",
       "      <td>0.484225</td>\n",
       "      <td>8.0</td>\n",
       "      <td>0.597329</td>\n",
       "      <td>2</td>\n",
       "      <td>1</td>\n",
       "      <td>0</td>\n",
       "      <td>0.863650</td>\n",
       "      <td>1</td>\n",
       "      <td>0</td>\n",
       "      <td>1</td>\n",
       "      <td>1</td>\n",
       "    </tr>\n",
       "    <tr>\n",
       "      <th>6</th>\n",
       "      <td>1.774174</td>\n",
       "      <td>1.056346</td>\n",
       "      <td>7.0</td>\n",
       "      <td>-1.225848</td>\n",
       "      <td>2</td>\n",
       "      <td>1</td>\n",
       "      <td>1</td>\n",
       "      <td>-1.565487</td>\n",
       "      <td>0</td>\n",
       "      <td>0</td>\n",
       "      <td>0</td>\n",
       "      <td>1</td>\n",
       "    </tr>\n",
       "    <tr>\n",
       "      <th>7</th>\n",
       "      <td>-2.840488</td>\n",
       "      <td>-0.946079</td>\n",
       "      <td>4.0</td>\n",
       "      <td>0.618019</td>\n",
       "      <td>4</td>\n",
       "      <td>1</td>\n",
       "      <td>0</td>\n",
       "      <td>0.334854</td>\n",
       "      <td>1</td>\n",
       "      <td>1</td>\n",
       "      <td>0</td>\n",
       "      <td>0</td>\n",
       "    </tr>\n",
       "    <tr>\n",
       "      <th>8</th>\n",
       "      <td>-1.547141</td>\n",
       "      <td>0.484225</td>\n",
       "      <td>4.0</td>\n",
       "      <td>1.050820</td>\n",
       "      <td>2</td>\n",
       "      <td>0</td>\n",
       "      <td>1</td>\n",
       "      <td>-0.437329</td>\n",
       "      <td>0</td>\n",
       "      <td>0</td>\n",
       "      <td>0</td>\n",
       "      <td>1</td>\n",
       "    </tr>\n",
       "    <tr>\n",
       "      <th>9</th>\n",
       "      <td>0.346319</td>\n",
       "      <td>-1.136786</td>\n",
       "      <td>2.0</td>\n",
       "      <td>0.931463</td>\n",
       "      <td>1</td>\n",
       "      <td>1</td>\n",
       "      <td>1</td>\n",
       "      <td>-0.493230</td>\n",
       "      <td>0</td>\n",
       "      <td>0</td>\n",
       "      <td>0</td>\n",
       "      <td>1</td>\n",
       "    </tr>\n",
       "  </tbody>\n",
       "</table>\n",
       "</div>"
      ],
      "text/plain": [
       "   CreditScore       Age  Tenure   Balance  NumOfProducts  HasCrCard  \\\n",
       "0    -0.326221  0.293517     2.0 -1.225848              1          1   \n",
       "1    -0.440036  0.198164     1.0  0.117350              1          0   \n",
       "2    -1.536794  0.293517     8.0  1.333053              3          1   \n",
       "3     0.501521  0.007457     1.0 -1.225848              2          0   \n",
       "4     2.063884  0.388871     2.0  0.785728              1          1   \n",
       "5    -0.057205  0.484225     8.0  0.597329              2          1   \n",
       "6     1.774174  1.056346     7.0 -1.225848              2          1   \n",
       "7    -2.840488 -0.946079     4.0  0.618019              4          1   \n",
       "8    -1.547141  0.484225     4.0  1.050820              2          0   \n",
       "9     0.346319 -1.136786     2.0  0.931463              1          1   \n",
       "\n",
       "   IsActiveMember  EstimatedSalary  Exited  Geography_Germany  \\\n",
       "0               1         0.021886       1                  0   \n",
       "1               1         0.216534       0                  0   \n",
       "2               0         0.240687       1                  0   \n",
       "3               0        -0.108918       0                  0   \n",
       "4               1        -0.365276       0                  0   \n",
       "5               0         0.863650       1                  0   \n",
       "6               1        -1.565487       0                  0   \n",
       "7               0         0.334854       1                  1   \n",
       "8               1        -0.437329       0                  0   \n",
       "9               1        -0.493230       0                  0   \n",
       "\n",
       "   Geography_Spain  Gender_Male  \n",
       "0                0            0  \n",
       "1                1            0  \n",
       "2                0            0  \n",
       "3                0            0  \n",
       "4                1            0  \n",
       "5                1            1  \n",
       "6                0            1  \n",
       "7                0            0  \n",
       "8                0            1  \n",
       "9                0            1  "
      ]
     },
     "metadata": {},
     "output_type": "display_data"
    }
   ],
   "source": [
    "display(data.head(10))"
   ]
  },
  {
   "cell_type": "markdown",
   "metadata": {},
   "source": [
    "В графе `Tenure`, мы имеем где то 10 процентов пропусков\n",
    "Преобразуем данный признак c помощью метода OHE"
   ]
  },
  {
   "cell_type": "code",
   "execution_count": 14,
   "metadata": {},
   "outputs": [],
   "source": [
    "\n",
    "data.loc[data['Tenure'].isna(), 'Tenure'] = -1\n",
    "data['Tenure'] = data['Tenure'].astype('object')\n",
    "data = pd.get_dummies(data, drop_first=True)"
   ]
  },
  {
   "cell_type": "markdown",
   "metadata": {},
   "source": [
    "### Выводы"
   ]
  },
  {
   "cell_type": "markdown",
   "metadata": {},
   "source": [
    "- Данные успешно загружены и проверены на соответствие описанию. Дубликатов нет. Типы данных преобразованы в соответствии с хранимой информацией\n",
    "- Признаки `RowNumber`, `CustomerId` и `Surname` удалены, так как целевой признак от них никак не зависит.\n",
    "- Были рассмотрены распределения признаков. В `CreditScore`, `Age` найдено около 4% выбросов. Пока оставлены как есть.\n",
    "- Числовые признаки приведены к стандартному виду (среднее = 0, стандартное отклонение = 1)\n",
    "- Категориальные признаки преобразованы методом One-Hot Encoder.\n",
    "- Целевой признак распределён в сооотношении 4:1\n",
    "- В признаке `Tenure` обнаружено около 10% пропусков. Данный признак преобразован прямым кодированием One-Hot Encoder."
   ]
  },
  {
   "cell_type": "markdown",
   "metadata": {},
   "source": [
    "# 2. Исследование задачи"
   ]
  },
  {
   "cell_type": "markdown",
   "metadata": {},
   "source": [
    "- Для начала разделим данные на признаки и целевой признак"
   ]
  },
  {
   "cell_type": "code",
   "execution_count": 15,
   "metadata": {},
   "outputs": [],
   "source": [
    "features = data.drop('Exited', axis=1)\n",
    "target = data['Exited']"
   ]
  },
  {
   "cell_type": "markdown",
   "metadata": {},
   "source": [
    "- Разделим данные на обучающую, валидационную и тестовую выборки в пропорции 3:1:1 соответственно (60% на обучающию и по 20% данных на валидационную и тестовую выборки)."
   ]
  },
  {
   "cell_type": "code",
   "execution_count": 16,
   "metadata": {},
   "outputs": [],
   "source": [
    "# разделим  с помощью функции train_test_split библиотеки sklearn\n",
    "ft_divide, features_test, target_divide, target_test = train_test_split(features, target, test_size=0.2, random_state=123)\n",
    "features_train, features_valid, target_train, target_valid = train_test_split(ft_divide, target_divide, test_size=0.25, random_state=123)"
   ]
  },
  {
   "cell_type": "code",
   "execution_count": 17,
   "metadata": {},
   "outputs": [
    {
     "name": "stdout",
     "output_type": "stream",
     "text": [
      "Размеры наборов данных:\n",
      "features_train:  (6000, 21)\n",
      "features_valid:  (2000, 21)\n",
      "features_test:   (2000, 21)\n"
     ]
    }
   ],
   "source": [
    "# выведем размеры получившихся выборок\n",
    "print('Размеры наборов данных:')\n",
    "print('features_train: ', features_train.shape)\n",
    "print('features_valid: ', features_valid.shape)\n",
    "print('features_test:  ', features_test.shape)"
   ]
  },
  {
   "cell_type": "markdown",
   "metadata": {},
   "source": [
    "- Попробуем обучить различные классификационные модели без учёта дисбаланса классов."
   ]
  },
  {
   "cell_type": "markdown",
   "metadata": {},
   "source": [
    "## 2.1 Решающее дерево"
   ]
  },
  {
   "cell_type": "markdown",
   "metadata": {},
   "source": [
    "- Инициируем модель решающего дерева DecisionTreeClassifier\n",
    "- Выделим гиперпараметры для настройки модели:\n",
    "    - `max_depth` - максимальная глубина древа\n",
    "    - `min_samples_split` - минимальное количество объектов в узле\n",
    "    - `min_samples_leaf` - минимальное количество объектов в листе\n",
    "    - `criterion` (\"gini\" или \"entropy\") - функция измерения качества разделения\n",
    "- Критерием проверки качества модели будет `f1` и `roc_auc`."
   ]
  },
  {
   "cell_type": "code",
   "execution_count": 18,
   "metadata": {},
   "outputs": [],
   "source": [
    "def decision_tree(features_train, features_valid, target_train, target_valid, cw=None):\n",
    "    \"\"\"\n",
    "    input: features_train, features_valid, target_train, target_valid - обучающие и валидационные выборки признаков и целевого признака\n",
    "            cw - параметр class_weight для модели решающего дерева\n",
    "    output: None\n",
    "    description: функция обучает модель решающего дерева DecisionTreeClassifier с различными сочетаниями гиперпараметров;\n",
    "                 метрики качества модели: f1 и roc_auc;\n",
    "                 функция выводит наилучшие значения метрик и значения гиперпараметров наилучшей модели.\n",
    "    \"\"\"\n",
    "    # в параметрах best_params_f1 и best_f1 будем хранить наилучшие параметры для модели и наивысшую f1 метрику соответственно\n",
    "    best_params_f1 = []\n",
    "    best_f1 = 0\n",
    "    # аналогично для roc_auc метрики.\n",
    "    best_params_roc_auc = []\n",
    "    best_roc_auc = 0.5\n",
    "    # проходим в циклах по всем выбранным гиперпараметрам\n",
    "    for max_depth in range(2,10):\n",
    "        for min_samples_split in range(2,6):\n",
    "            for min_samples_leaf in range(1,10):\n",
    "                for criterion in ['gini', 'entropy']:\n",
    "                    # инициация модели с текущими гиперпараметрами\n",
    "                    model_dt_clf = DecisionTreeClassifier(random_state=123,\n",
    "                                                          max_depth=max_depth,\n",
    "                                                          min_samples_split=min_samples_split,\n",
    "                                                          min_samples_leaf=min_samples_leaf,\n",
    "                                                          criterion=criterion,\n",
    "                                                          class_weight=cw)\n",
    "                    # обучение модели на тренировочной выборке\n",
    "                    model_dt_clf.fit(features_train, target_train)\n",
    "                    # поиск предсказаний модели на валидационной выбоке\n",
    "                    predictions = model_dt_clf.predict(features_valid)\n",
    "                    # вычисление f1 модели методом f1_score\n",
    "                    f1 = f1_score(target_valid, predictions)\n",
    "                    # если текущее значение метрики f1 выше предыдущего лучшего значения, \n",
    "                    # сохраняем параметры модели и текущую метрику f1\n",
    "                    if f1 > best_f1:\n",
    "                        best_params_f1 = [max_depth, min_samples_split, min_samples_leaf, criterion]\n",
    "                        best_f1 = f1\n",
    "                    # аналогично для метрики roc_auc\n",
    "                    roc_auc = roc_auc_score(target_valid, predictions)\n",
    "                    if roc_auc > best_roc_auc:\n",
    "                        best_params_roc_auc = [max_depth, min_samples_split, min_samples_leaf, criterion]\n",
    "                        best_roc_auc = roc_auc\n",
    "    \n",
    "    # вывод наилучшей метрики f1 и параметров модели.\n",
    "    print('''Наилучшая метрика f1: {}\n",
    "    Парамтеры модели:\n",
    "       max_depth = {}\n",
    "       min_samples_split = {}\n",
    "       min_samples_leaf = {}\n",
    "       criterion = {} \\n'''.format(round(best_f1, 3),\n",
    "                                 best_params_f1[0],\n",
    "                                 best_params_f1[1],\n",
    "                                 best_params_f1[2],\n",
    "                                 best_params_f1[3]\n",
    "                                ))\n",
    "    \n",
    "    # вывод наилучшей метрики roc_auc и параметров модели.\n",
    "    print('''Наилучшая метрика roc_auc: {}\n",
    "    Парамтеры модели:\n",
    "       max_depth = {}\n",
    "       min_samples_split = {}\n",
    "       min_samples_leaf = {}\n",
    "       criterion = {} '''.format(round(best_roc_auc, 3),\n",
    "                                 best_params_roc_auc[0],\n",
    "                                 best_params_roc_auc[1],\n",
    "                                 best_params_roc_auc[2],\n",
    "                                 best_params_roc_auc[3]\n",
    "                                ))"
   ]
  },
  {
   "cell_type": "code",
   "execution_count": 19,
   "metadata": {},
   "outputs": [
    {
     "name": "stdout",
     "output_type": "stream",
     "text": [
      "Наилучшая метрика f1: 0.569\n",
      "    Парамтеры модели:\n",
      "       max_depth = 5\n",
      "       min_samples_split = 2\n",
      "       min_samples_leaf = 4\n",
      "       criterion = gini \n",
      "\n",
      "Наилучшая метрика roc_auc: 0.711\n",
      "    Парамтеры модели:\n",
      "       max_depth = 5\n",
      "       min_samples_split = 2\n",
      "       min_samples_leaf = 4\n",
      "       criterion = gini \n"
     ]
    }
   ],
   "source": [
    "decision_tree(features_train, features_valid, target_train, target_valid)"
   ]
  },
  {
   "cell_type": "markdown",
   "metadata": {},
   "source": [
    "- Наилучшая метрика f1 для решающего дерева 0.57 (не достаточно по техническому заданию).\n",
    "- Наилучший результат по метрикам f1 и roc_auc достигается при одинаковой настройке гиперпараметров.\n",
    "- Попробуем улучшить результат на других моделях"
   ]
  },
  {
   "cell_type": "markdown",
   "metadata": {},
   "source": [
    "## 2.2 Случайный лес"
   ]
  },
  {
   "cell_type": "markdown",
   "metadata": {},
   "source": [
    "- Инициируем модель случайного леса RandomForestClassifier\n",
    "- Выделим гиперпараметры для настройки модели:\n",
    "    - `n_estimators` - количество деревьев\n",
    "    - `max_depth` - максимальная глубина древа\n",
    "    - `min_samples_split` - минимальное количество объектов в узле\n",
    "    - `min_samples_leaf` - минимальное количество объектов в листе\n",
    "- Критерием проверки качества модели будет `f1` и `roc_auc`."
   ]
  },
  {
   "cell_type": "code",
   "execution_count": 20,
   "metadata": {},
   "outputs": [],
   "source": [
    "def random_forest(features_train, features_valid, target_train, target_valid, cw=None):\n",
    "    \"\"\"\n",
    "    input: features_train, features_valid, target_train, target_valid - обучающие и валидационные выборки признаков и целевого признака\n",
    "            cw - параметр class_weight для модели случайного леса\n",
    "    output: None\n",
    "    description: функция обучает модель решающего дерева RandomForestClassifier с различными сочетаниями гиперпараметров;\n",
    "                 метрики качества модели: f1 и roc_auc;\n",
    "                 функция выводит наилучшие значения метрик и значения гиперпараметров наилучшей модели.\n",
    "    \"\"\"\n",
    "    # в параметрах best_params_f1 и best_f1 будем хранить наилучшие параметры для модели и наивысшую f1 метрику соответственно\n",
    "    best_params_f1 = []\n",
    "    best_f1 = 0\n",
    "    # аналогично для roc_auc метрики.\n",
    "    best_params_roc_auc = []\n",
    "    best_roc_auc = 0.5\n",
    "    # проходим в циклах по всем выбранным гиперпараметрам\n",
    "    for n_estimators in range(30,40):\n",
    "        for max_depth in range(10,17,2):\n",
    "            for min_samples_split in range(2,5):\n",
    "                for min_samples_leaf in range(1,4):\n",
    "                    # инициация модели с текущими гиперпараметрами\n",
    "                    model_rf_clf = RandomForestClassifier(random_state=123,\n",
    "                                                          n_estimators=n_estimators,\n",
    "                                                          max_depth=max_depth,\n",
    "                                                          min_samples_split=min_samples_split,\n",
    "                                                          min_samples_leaf=min_samples_leaf)\n",
    "                    # обучение модели на тренировочной выборке\n",
    "                    model_rf_clf.fit(features_train, target_train)\n",
    "                    # поиск предсказаний модели на валидационной выбоке\n",
    "                    predictions = model_rf_clf.predict(features_valid)\n",
    "\n",
    "                    # вычисление f1 модели методом f1_score\n",
    "                    f1 = f1_score(target_valid, predictions)\n",
    "                    # если текущее значение метрики f1 выше предыдущего лучшего значения, \n",
    "                    # сохраняем параметры модели и текущую метрику f1\n",
    "                    if f1 > best_f1:\n",
    "                        best_params_f1 = [n_estimators, max_depth, min_samples_split, min_samples_leaf]\n",
    "                        best_f1 = f1\n",
    "                    # аналогично для метрики roc_auc\n",
    "                    roc_auc = roc_auc_score(target_valid, predictions)\n",
    "                    if roc_auc > best_roc_auc:\n",
    "                        best_params_roc_auc = [n_estimators, max_depth, min_samples_split, min_samples_leaf]\n",
    "                        best_roc_auc = roc_auc\n",
    "\n",
    "    # вывод наилучшей метрики f1 и параметров модели.\n",
    "    print('''Наилучшая метрика f1: {}\n",
    "    Парамтеры модели:\n",
    "       n_estimators = {}\n",
    "       max_depth = {}\n",
    "       min_samples_split = {}\n",
    "       min_samples_leaf = {} \\n'''.format(round(best_f1, 3),\n",
    "                                 best_params_f1[0],\n",
    "                                 best_params_f1[1],\n",
    "                                 best_params_f1[2],\n",
    "                                 best_params_f1[3]\n",
    "                                ))\n",
    "\n",
    "    # вывод наилучшей метрики roc_auc и параметров модели.\n",
    "    print('''Наилучшая метрика roc_auc: {}\n",
    "    Парамтеры модели:\n",
    "       n_estimators = {}\n",
    "       max_depth = {}\n",
    "       min_samples_split = {}\n",
    "       min_samples_leaf = {} '''.format(round(best_roc_auc, 3),\n",
    "                                 best_params_roc_auc[0],\n",
    "                                 best_params_roc_auc[1],\n",
    "                                 best_params_roc_auc[2],\n",
    "                                 best_params_roc_auc[3]\n",
    "                                ))"
   ]
  },
  {
   "cell_type": "code",
   "execution_count": 21,
   "metadata": {},
   "outputs": [
    {
     "name": "stdout",
     "output_type": "stream",
     "text": [
      "Наилучшая метрика f1: 0.575\n",
      "    Парамтеры модели:\n",
      "       n_estimators = 30\n",
      "       max_depth = 16\n",
      "       min_samples_split = 2\n",
      "       min_samples_leaf = 3 \n",
      "\n",
      "Наилучшая метрика roc_auc: 0.707\n",
      "    Парамтеры модели:\n",
      "       n_estimators = 30\n",
      "       max_depth = 16\n",
      "       min_samples_split = 2\n",
      "       min_samples_leaf = 3 \n"
     ]
    }
   ],
   "source": [
    "random_forest(features_train, features_valid, target_train, target_valid)"
   ]
  },
  {
   "cell_type": "markdown",
   "metadata": {},
   "source": [
    "- Наилучшая метрика f1 для случайного леса 0.58 (не достаточно по техническому заданию).\n",
    "- Наилучший результат по метрикам f1 и roc_auc достигается при одинаковой настройке гиперпараметров.\n",
    "- Попробуем улучшить результат на других моделях."
   ]
  },
  {
   "cell_type": "markdown",
   "metadata": {},
   "source": [
    "## 2.3 Логистическая регрессия"
   ]
  },
  {
   "cell_type": "markdown",
   "metadata": {},
   "source": [
    "- Инициируем модель логистической регрессии LogisticRegression\n",
    "- Выделим гиперпараметры для настройки модели:\n",
    "    - `С` - инверсия силы регуляризации\n",
    "- Критерием проверки качества модели будет `f1` и `roc_auc`."
   ]
  },
  {
   "cell_type": "code",
   "execution_count": 22,
   "metadata": {},
   "outputs": [],
   "source": [
    "# в параметрах best_params_f1 и best_f1 будем хранить наилучшие параметры для модели и наивысшую f1 метрику соответственно\n",
    "best_params_f1 = []\n",
    "best_f1 = 0\n",
    "# аналогично для roc_auc метрики.\n",
    "best_params_roc_auc = []\n",
    "best_roc_auc = 0.5\n",
    "\n",
    "#cs = np.linspace(0.01, 100, 1000, endpoint=True)\n",
    "cs = range(1, 100)\n",
    "# проходим в циклах по всем выбранным гиперпараметрам\n",
    "for C in cs:\n",
    "    # инициация модели с текущими гиперпараметрами\n",
    "    model_lr_clf = LogisticRegression(random_state=123,\n",
    "                                      C=C,\n",
    "                                      max_iter=1000)\n",
    "    # обучение модели на тренировочной выборке\n",
    "    model_lr_clf.fit(features_train, target_train)\n",
    "    # поиск предсказаний модели на валидационной выбоке\n",
    "    predictions = model_lr_clf.predict(features_valid)\n",
    "\n",
    "    # вычисление f1 модели методом f1_score\n",
    "    f1 = f1_score(target_valid, predictions)\n",
    "    # если текущее значение метрики f1 выше предыдущего лучшего значения, \n",
    "    # сохраняем параметры модели и текущую метрику f1\n",
    "    if f1 > best_f1:\n",
    "        best_params_f1 = [C]\n",
    "        best_f1 = f1\n",
    "    # аналогично для метрики roc_auc\n",
    "    roc_auc = roc_auc_score(target_valid, predictions)\n",
    "    if roc_auc > best_roc_auc:\n",
    "        best_params_roc_auc = [C]\n",
    "        best_roc_auc = roc_auc"
   ]
  },
  {
   "cell_type": "code",
   "execution_count": 23,
   "metadata": {},
   "outputs": [
    {
     "name": "stdout",
     "output_type": "stream",
     "text": [
      "Наилучшая метрика f1: 0.279\n",
      "Парамтеры модели:\n",
      "   C = 5 \n"
     ]
    }
   ],
   "source": [
    "# вывод наилучшей метрики f1 и параметров модели.\n",
    "print('''Наилучшая метрика f1: {}\n",
    "Парамтеры модели:\n",
    "   C = {} '''.format(round(best_f1, 3),\n",
    "                             best_params_f1[0]\n",
    "                            ))"
   ]
  },
  {
   "cell_type": "code",
   "execution_count": 24,
   "metadata": {},
   "outputs": [
    {
     "name": "stdout",
     "output_type": "stream",
     "text": [
      "Наилучшая метрика roc_auc: 0.574\n",
      "Парамтеры модели:\n",
      "   C = 5 \n"
     ]
    }
   ],
   "source": [
    "# вывод наилучшей метрики roc_auc и параметров модели.\n",
    "print('''Наилучшая метрика roc_auc: {}\n",
    "Парамтеры модели:\n",
    "   C = {} '''.format(round(best_roc_auc, 3),\n",
    "                             best_params_roc_auc[0]\n",
    "                            ))"
   ]
  },
  {
   "cell_type": "markdown",
   "metadata": {},
   "source": [
    "- Наилучшая метрика f1 для логистической регрессии 0.27 (хуже, чем на остальных моделях).\n",
    "- Наилучший результат по метрикам f1 и roc_auc достигается при одинаковой настройке гиперпараметров.\n",
    "- Попробуем улучшить результат, разобравшись с дисбалансом классов."
   ]
  },
  {
   "cell_type": "markdown",
   "metadata": {},
   "source": [
    "### Выводы"
   ]
  },
  {
   "cell_type": "markdown",
   "metadata": {},
   "source": [
    "- Исходные данные разделены на обучающую, валидационную и тестовую выборки в соотношении 3:1:1 соответственно\n",
    "- Обучены модели \"Решающее Дерево\", \"Случайный лес\", \"Логистическая Регрессия\" без учёта дисбаланса классов. Максимальное значение метрики **f1 = 0.58** получено при обучении модели случайного леса. Качество модели не удовлетворяет условию технического задания.\n",
    "- Качество моделей также оценено по метрике roc_auc. Максимальное значение метрики **roc_auc = 0.71** достигнуто при обучении модели случайного леса. \n",
    "- Метрики f1 и roc_auc достигли максимальных значений при одинаковых настройках гиперпараметров (но такой результат получается не всегда)."
   ]
  },
  {
   "cell_type": "markdown",
   "metadata": {},
   "source": [
    "# 3. Борьба с дисбалансом"
   ]
  },
  {
   "cell_type": "markdown",
   "metadata": {},
   "source": [
    "- Соотношение значений целевого признака 4:1 (для классов 0 и 1 соответственно)\n",
    "- Для борьбы с дисбалансом классов попробуем:\n",
    "    - взвешивание классов (class_weight='balanced')\n",
    "    - увеличение выборки положительного класса (копирование объектов)\n",
    "    - уменьшение выборки отрицательного класса (sampling)\n",
    "    - перемешивание объектов методом shuffle"
   ]
  },
  {
   "cell_type": "markdown",
   "metadata": {},
   "source": [
    "## 3.1 Взвешивание классов"
   ]
  },
  {
   "cell_type": "code",
   "execution_count": 25,
   "metadata": {},
   "outputs": [],
   "source": [
    "def decision_tree(features_train, features_valid, target_train, target_valid, cw=None):\n",
    "    \"\"\"\n",
    "    input: features_train, features_valid, target_train, target_valid - обучающие и валидационные выборки признаков и целевого признака\n",
    "            cw - параметр class_weight для модели решающего дерева\n",
    "    output: None\n",
    "    description: функция обучает модель решающего дерева DecisionTreeClassifier с различными сочетаниями гиперпараметров;\n",
    "                 метрики качества модели: f1 и roc_auc;\n",
    "                 функция выводит наилучшие значения метрик и значения гиперпараметров наилучшей модели.\n",
    "    \"\"\"\n",
    "    # в параметрах best_params_f1 и best_f1 будем хранить наилучшие параметры для модели и наивысшую f1 метрику соответственно\n",
    "    best_params_f1 = []\n",
    "    best_f1 = 0\n",
    "    # аналогично для roc_auc метрики.\n",
    "    best_params_roc_auc = []\n",
    "    best_roc_auc = 0.5\n",
    "    # проходим в циклах по всем выбранным гиперпараметрам\n",
    "    for max_depth in range(2,10):\n",
    "        for min_samples_split in range(2,6):\n",
    "            for min_samples_leaf in range(1,10):\n",
    "                for criterion in ['gini', 'entropy']:\n",
    "                    # инициация модели с текущими гиперпараметрами\n",
    "                    model_dt_clf = DecisionTreeClassifier(random_state=123,\n",
    "                                                          max_depth=max_depth,\n",
    "                                                          min_samples_split=min_samples_split,\n",
    "                                                          min_samples_leaf=min_samples_leaf,\n",
    "                                                          criterion=criterion,\n",
    "                                                          class_weight=cw)\n",
    "                    # обучение модели на тренировочной выборке\n",
    "                    model_dt_clf.fit(features_train, target_train)\n",
    "                    # поиск предсказаний модели на валидационной выбоке\n",
    "                    predictions = model_dt_clf.predict(features_valid)\n",
    "                    # вычисление f1 модели методом f1_score\n",
    "                    f1 = f1_score(target_valid, predictions)\n",
    "                    # если текущее значение метрики f1 выше предыдущего лучшего значения, \n",
    "                    # сохраняем параметры модели и текущую метрику f1\n",
    "                    if f1 > best_f1:\n",
    "                        best_params_f1 = [max_depth, min_samples_split, min_samples_leaf, criterion]\n",
    "                        best_f1 = f1\n",
    "                    # аналогично для метрики roc_auc\n",
    "                    roc_auc = roc_auc_score(target_valid, predictions)\n",
    "                    if roc_auc > best_roc_auc:\n",
    "                        best_params_roc_auc = [max_depth, min_samples_split, min_samples_leaf, criterion]\n",
    "                        best_roc_auc = roc_auc\n",
    "    \n",
    "    # вывод наилучшей метрики f1 и параметров модели.\n",
    "    print('''Наилучшая метрика f1: {}\n",
    "    Парамтеры модели:\n",
    "       max_depth = {}\n",
    "       min_samples_split = {}\n",
    "       min_samples_leaf = {}\n",
    "       criterion = {} \\n'''.format(round(best_f1, 3),\n",
    "                                 best_params_f1[0],\n",
    "                                 best_params_f1[1],\n",
    "                                 best_params_f1[2],\n",
    "                                 best_params_f1[3]\n",
    "                                ))\n",
    "    \n",
    "    # вывод наилучшей метрики roc_auc и параметров модели.\n",
    "    print('''Наилучшая метрика roc_auc: {}\n",
    "    Парамтеры модели:\n",
    "       max_depth = {}\n",
    "       min_samples_split = {}\n",
    "       min_samples_leaf = {}\n",
    "       criterion = {} '''.format(round(best_roc_auc, 3),\n",
    "                                 best_params_roc_auc[0],\n",
    "                                 best_params_roc_auc[1],\n",
    "                                 best_params_roc_auc[2],\n",
    "                                 best_params_roc_auc[3]\n",
    "                                ))"
   ]
  },
  {
   "cell_type": "code",
   "execution_count": 26,
   "metadata": {},
   "outputs": [
    {
     "name": "stdout",
     "output_type": "stream",
     "text": [
      "Наилучшая метрика f1: 0.565\n",
      "    Парамтеры модели:\n",
      "       max_depth = 8\n",
      "       min_samples_split = 2\n",
      "       min_samples_leaf = 9\n",
      "       criterion = gini \n",
      "\n",
      "Наилучшая метрика roc_auc: 0.751\n",
      "    Парамтеры модели:\n",
      "       max_depth = 6\n",
      "       min_samples_split = 2\n",
      "       min_samples_leaf = 8\n",
      "       criterion = gini \n"
     ]
    }
   ],
   "source": [
    "decision_tree(features_train, features_valid, target_train, target_valid, cw='balanced')"
   ]
  },
  {
   "cell_type": "markdown",
   "metadata": {},
   "source": [
    "- Взвешивание классов почти не дало прироста в метрике f1 на решающем дереве. \n",
    "- Отметим, что в данном случае наилучшие значения метрик f1 и roc_auc достигаются при различных настройках гиперпараметров.\n",
    "- Применим upsampling и downsampling. Проверим результаты на модели случайного леса (она дала наилучший результат при начальном исследовании)"
   ]
  },
  {
   "cell_type": "markdown",
   "metadata": {},
   "source": [
    "## 3.2 Upsampling и downsampling"
   ]
  },
  {
   "cell_type": "markdown",
   "metadata": {},
   "source": [
    "- Напишем функции для увеличения и уменьшения выборок."
   ]
  },
  {
   "cell_type": "code",
   "execution_count": 27,
   "metadata": {},
   "outputs": [],
   "source": [
    "def upsample(features, target, repeat):\n",
    "    \"\"\"\n",
    "    input:        features - признаки \n",
    "                  target - целево признак\n",
    "                  repeat (int) - множитель для повторения признаков\n",
    "    output:       features_upsampled - увеличенная выборка признаков\n",
    "                  target_upsampled - увеличенная выборка целевого признака\n",
    "    description:  функция разделяет признаки по классам целевого признака (0, 1),\n",
    "                  повторяет признаки целевого положительного класса repeat раз,\n",
    "                  объединяет объекты с разными целевыми признаками методом concat,\n",
    "                  перемешивает объекты методом shuffle\n",
    "    \"\"\"\n",
    "    features_zeros = features[target == 0]\n",
    "    features_ones = features[target == 1]\n",
    "    target_zeros = target[target == 0]\n",
    "    target_ones = target[target == 1]\n",
    "    \n",
    "    features_upsampled = pd.concat([features_zeros] + [features_ones] * repeat)\n",
    "    target_upsampled = pd.concat([target_zeros] + [target_ones] * repeat)\n",
    "    \n",
    "    features_upsampled, target_upsampled = shuffle(\n",
    "        features_upsampled, target_upsampled, random_state=12345)\n",
    "    return features_upsampled, target_upsampled"
   ]
  },
  {
   "cell_type": "code",
   "execution_count": 28,
   "metadata": {},
   "outputs": [],
   "source": [
    "def downsample(features, target, fraction):\n",
    "    \"\"\"\n",
    "    input:        features - признаки \n",
    "                  target - целево признак\n",
    "                  fraction (float) - доля объектов для сэмплирования\n",
    "    output:       features_downsampled - уменьшенная выборка признаков\n",
    "                  target_downsampled - уменьшенная выборка целевого признака\n",
    "    description:  функция разделяет признаки по классам целевого признака (0, 1), \n",
    "                  сэмплирует признаки целевого класса 0 (с коэффициентом fraction),\n",
    "                  объединяет объекты с разными целевыми признаками методом concat,\n",
    "                  перемешивает объекты методом shuffle\n",
    "    \"\"\"\n",
    "    features_zeros = features[target == 0]\n",
    "    features_ones = features[target == 1]\n",
    "    target_zeros = target[target == 0]\n",
    "    target_ones = target[target == 1]\n",
    "    \n",
    "    features_downsampled = pd.concat(\n",
    "        [features_zeros.sample(frac=fraction, random_state=12345)] + [features_ones])\n",
    "    target_downsampled = pd.concat(\n",
    "        [target_zeros.sample(frac=fraction, random_state=12345)] + [target_ones])\n",
    "    \n",
    "    features_downsampled, target_downsampled = shuffle(\n",
    "        features_downsampled, target_downsampled, random_state=12345)\n",
    "    return features_downsampled, target_downsampled"
   ]
  },
  {
   "cell_type": "markdown",
   "metadata": {},
   "source": [
    "- Для обучающей выборки увеличим количество объектов класса 1 в 2 раза, уменьшим количество объектов класса 0 в 1.5 раза."
   ]
  },
  {
   "cell_type": "code",
   "execution_count": 29,
   "metadata": {},
   "outputs": [],
   "source": [
    "features_train_upsampled, target_train_upsampled = upsample(features_train, target_train, 2)\n",
    "features_train_balanced, target_train_balanced = downsample(features_train_upsampled, target_train_upsampled, 0.75)"
   ]
  },
  {
   "cell_type": "markdown",
   "metadata": {},
   "source": [
    "- Обучим модели случайного леса и решающего дерева на сбалансированных обучающих выборках."
   ]
  },
  {
   "cell_type": "code",
   "execution_count": 30,
   "metadata": {},
   "outputs": [
    {
     "name": "stdout",
     "output_type": "stream",
     "text": [
      "Наилучшая метрика f1: 0.608\n",
      "    Парамтеры модели:\n",
      "       n_estimators = 33\n",
      "       max_depth = 12\n",
      "       min_samples_split = 3\n",
      "       min_samples_leaf = 1 \n",
      "\n",
      "Наилучшая метрика roc_auc: 0.748\n",
      "    Парамтеры модели:\n",
      "       n_estimators = 33\n",
      "       max_depth = 12\n",
      "       min_samples_split = 3\n",
      "       min_samples_leaf = 1 \n"
     ]
    }
   ],
   "source": [
    "random_forest(features_train_balanced, features_valid, target_train_balanced, target_valid)"
   ]
  },
  {
   "cell_type": "code",
   "execution_count": 31,
   "metadata": {},
   "outputs": [
    {
     "name": "stdout",
     "output_type": "stream",
     "text": [
      "Наилучшая метрика f1: 0.587\n",
      "    Парамтеры модели:\n",
      "       max_depth = 7\n",
      "       min_samples_split = 2\n",
      "       min_samples_leaf = 2\n",
      "       criterion = gini \n",
      "\n",
      "Наилучшая метрика roc_auc: 0.75\n",
      "    Парамтеры модели:\n",
      "       max_depth = 6\n",
      "       min_samples_split = 2\n",
      "       min_samples_leaf = 1\n",
      "       criterion = gini \n"
     ]
    }
   ],
   "source": [
    "decision_tree(features_train_balanced, features_valid, target_train_balanced, target_valid)"
   ]
  },
  {
   "cell_type": "markdown",
   "metadata": {},
   "source": [
    "- Метрика f1 для модели \"Случайный лес\" достигла значения **0.61** на сбалансированной выборке, что удовлетворяет условию технического задания (>0.59).\n",
    "- Для модели \"Решающее дерево\" метрика f1 также практически достигла минимально допустимого значения 0.59 (за меньшее время обучения).\n",
    "- Наилучшие значения метрик f1 и roc_auc достигли на случайном лесе при одинаковых значениях гиперпараметров. Для решающего дерева оптимальные значения гиперпараметров различаются.\n",
    "- Стоит отметить, что максимальное значение метрики roc_auc для решающего дерева **0.75** немного выше, чем для случайного леса **0.748**."
   ]
  },
  {
   "cell_type": "markdown",
   "metadata": {},
   "source": [
    "- Для модели случайного леса попробуем применить различные варианты upsampling и downsampling (изменять параметры repeat и fraction)."
   ]
  },
  {
   "cell_type": "code",
   "execution_count": 32,
   "metadata": {},
   "outputs": [
    {
     "name": "stdout",
     "output_type": "stream",
     "text": [
      "=============================================================\n",
      "repeat = 2;   fraction = 0.5\n",
      "Наилучшая метрика f1: 0.576\n",
      "    Парамтеры модели:\n",
      "       max_depth = 8\n",
      "       min_samples_split = 2\n",
      "       min_samples_leaf = 3\n",
      "       criterion = gini \n",
      "\n",
      "Наилучшая метрика roc_auc: 0.757\n",
      "    Парамтеры модели:\n",
      "       max_depth = 8\n",
      "       min_samples_split = 2\n",
      "       min_samples_leaf = 6\n",
      "       criterion = gini \n",
      "=============================================================\n",
      "repeat = 2;   fraction = 0.55\n",
      "Наилучшая метрика f1: 0.604\n",
      "    Парамтеры модели:\n",
      "       max_depth = 8\n",
      "       min_samples_split = 2\n",
      "       min_samples_leaf = 4\n",
      "       criterion = gini \n",
      "\n",
      "Наилучшая метрика roc_auc: 0.769\n",
      "    Парамтеры модели:\n",
      "       max_depth = 8\n",
      "       min_samples_split = 2\n",
      "       min_samples_leaf = 4\n",
      "       criterion = gini \n",
      "=============================================================\n",
      "repeat = 2;   fraction = 0.6\n",
      "Наилучшая метрика f1: 0.582\n",
      "    Парамтеры модели:\n",
      "       max_depth = 8\n",
      "       min_samples_split = 2\n",
      "       min_samples_leaf = 7\n",
      "       criterion = entropy \n",
      "\n",
      "Наилучшая метрика roc_auc: 0.758\n",
      "    Парамтеры модели:\n",
      "       max_depth = 7\n",
      "       min_samples_split = 5\n",
      "       min_samples_leaf = 2\n",
      "       criterion = gini \n",
      "=============================================================\n",
      "repeat = 2;   fraction = 0.65\n",
      "Наилучшая метрика f1: 0.582\n",
      "    Парамтеры модели:\n",
      "       max_depth = 8\n",
      "       min_samples_split = 2\n",
      "       min_samples_leaf = 3\n",
      "       criterion = gini \n",
      "\n",
      "Наилучшая метрика roc_auc: 0.755\n",
      "    Парамтеры модели:\n",
      "       max_depth = 7\n",
      "       min_samples_split = 2\n",
      "       min_samples_leaf = 8\n",
      "       criterion = gini \n",
      "=============================================================\n",
      "repeat = 2;   fraction = 0.7\n",
      "Наилучшая метрика f1: 0.584\n",
      "    Парамтеры модели:\n",
      "       max_depth = 6\n",
      "       min_samples_split = 2\n",
      "       min_samples_leaf = 7\n",
      "       criterion = entropy \n",
      "\n",
      "Наилучшая метрика roc_auc: 0.746\n",
      "    Парамтеры модели:\n",
      "       max_depth = 8\n",
      "       min_samples_split = 2\n",
      "       min_samples_leaf = 9\n",
      "       criterion = gini \n",
      "=============================================================\n",
      "repeat = 2;   fraction = 0.75\n",
      "Наилучшая метрика f1: 0.587\n",
      "    Парамтеры модели:\n",
      "       max_depth = 7\n",
      "       min_samples_split = 2\n",
      "       min_samples_leaf = 2\n",
      "       criterion = gini \n",
      "\n",
      "Наилучшая метрика roc_auc: 0.75\n",
      "    Парамтеры модели:\n",
      "       max_depth = 6\n",
      "       min_samples_split = 2\n",
      "       min_samples_leaf = 1\n",
      "       criterion = gini \n",
      "=============================================================\n",
      "repeat = 2;   fraction = 0.8\n",
      "Наилучшая метрика f1: 0.585\n",
      "    Парамтеры модели:\n",
      "       max_depth = 8\n",
      "       min_samples_split = 2\n",
      "       min_samples_leaf = 9\n",
      "       criterion = gini \n",
      "\n",
      "Наилучшая метрика roc_auc: 0.748\n",
      "    Парамтеры модели:\n",
      "       max_depth = 8\n",
      "       min_samples_split = 2\n",
      "       min_samples_leaf = 9\n",
      "       criterion = gini \n",
      "=============================================================\n",
      "repeat = 3;   fraction = 0.5\n",
      "Наилучшая метрика f1: 0.553\n",
      "    Парамтеры модели:\n",
      "       max_depth = 5\n",
      "       min_samples_split = 5\n",
      "       min_samples_leaf = 1\n",
      "       criterion = gini \n",
      "\n",
      "Наилучшая метрика roc_auc: 0.749\n",
      "    Парамтеры модели:\n",
      "       max_depth = 5\n",
      "       min_samples_split = 5\n",
      "       min_samples_leaf = 1\n",
      "       criterion = gini \n",
      "=============================================================\n",
      "repeat = 3;   fraction = 0.55\n",
      "Наилучшая метрика f1: 0.553\n",
      "    Парамтеры модели:\n",
      "       max_depth = 5\n",
      "       min_samples_split = 2\n",
      "       min_samples_leaf = 3\n",
      "       criterion = gini \n",
      "\n",
      "Наилучшая метрика roc_auc: 0.751\n",
      "    Парамтеры модели:\n",
      "       max_depth = 9\n",
      "       min_samples_split = 2\n",
      "       min_samples_leaf = 7\n",
      "       criterion = gini \n",
      "=============================================================\n",
      "repeat = 3;   fraction = 0.6\n",
      "Наилучшая метрика f1: 0.552\n",
      "    Парамтеры модели:\n",
      "       max_depth = 5\n",
      "       min_samples_split = 2\n",
      "       min_samples_leaf = 8\n",
      "       criterion = gini \n",
      "\n",
      "Наилучшая метрика roc_auc: 0.748\n",
      "    Парамтеры модели:\n",
      "       max_depth = 5\n",
      "       min_samples_split = 2\n",
      "       min_samples_leaf = 8\n",
      "       criterion = gini \n",
      "=============================================================\n",
      "repeat = 3;   fraction = 0.65\n",
      "Наилучшая метрика f1: 0.555\n",
      "    Парамтеры модели:\n",
      "       max_depth = 9\n",
      "       min_samples_split = 2\n",
      "       min_samples_leaf = 1\n",
      "       criterion = entropy \n",
      "\n",
      "Наилучшая метрика roc_auc: 0.747\n",
      "    Парамтеры модели:\n",
      "       max_depth = 5\n",
      "       min_samples_split = 2\n",
      "       min_samples_leaf = 1\n",
      "       criterion = entropy \n",
      "=============================================================\n",
      "repeat = 3;   fraction = 0.7\n",
      "Наилучшая метрика f1: 0.57\n",
      "    Парамтеры модели:\n",
      "       max_depth = 7\n",
      "       min_samples_split = 2\n",
      "       min_samples_leaf = 6\n",
      "       criterion = gini \n",
      "\n",
      "Наилучшая метрика roc_auc: 0.758\n",
      "    Парамтеры модели:\n",
      "       max_depth = 7\n",
      "       min_samples_split = 2\n",
      "       min_samples_leaf = 6\n",
      "       criterion = gini \n",
      "=============================================================\n",
      "repeat = 3;   fraction = 0.75\n",
      "Наилучшая метрика f1: 0.575\n",
      "    Парамтеры модели:\n",
      "       max_depth = 7\n",
      "       min_samples_split = 2\n",
      "       min_samples_leaf = 2\n",
      "       criterion = gini \n",
      "\n",
      "Наилучшая метрика roc_auc: 0.753\n",
      "    Парамтеры модели:\n",
      "       max_depth = 7\n",
      "       min_samples_split = 2\n",
      "       min_samples_leaf = 2\n",
      "       criterion = gini \n",
      "=============================================================\n",
      "repeat = 3;   fraction = 0.8\n",
      "Наилучшая метрика f1: 0.574\n",
      "    Парамтеры модели:\n",
      "       max_depth = 9\n",
      "       min_samples_split = 2\n",
      "       min_samples_leaf = 6\n",
      "       criterion = gini \n",
      "\n",
      "Наилучшая метрика roc_auc: 0.754\n",
      "    Парамтеры модели:\n",
      "       max_depth = 6\n",
      "       min_samples_split = 2\n",
      "       min_samples_leaf = 5\n",
      "       criterion = gini \n"
     ]
    }
   ],
   "source": [
    "for rep in range(2,4):\n",
    "    for frac in np.arange(0.5, 0.8, 0.05):\n",
    "        print('=============================================================')\n",
    "        print('repeat = {};   fraction = {}'.format(rep, round(frac,2)))\n",
    "        features_train_upsampled, target_train_upsampled = upsample(features_train, target_train, rep)\n",
    "        features_train_balanced, target_train_balanced = downsample(features_train_upsampled, target_train_upsampled, frac)\n",
    "        decision_tree(features_train_balanced, features_valid, target_train_balanced, target_valid)"
   ]
  },
  {
   "cell_type": "markdown",
   "metadata": {},
   "source": [
    "- Наилучший результат для решающего дерева достигнут при увеличении положительного класса тренировочной выборки в 2 раза и сэмплировании отрицательного класса с коэффициентом 0.55. При этом метрика **f1 = 0.604** а **roc_auc = 0.769**, что удовлетворяет условиям технического задания."
   ]
  },
  {
   "cell_type": "markdown",
   "metadata": {},
   "source": [
    "### Выводы"
   ]
  },
  {
   "cell_type": "markdown",
   "metadata": {},
   "source": [
    "- Взвешивание классов с помощью параметра class_weight не дало значительного увеличения метрики f1.\n",
    "- Upsampling положительного класса и downsampling отрицательного класса дали необходимый прирост точности моделей. \n",
    "- Необходимое качество на валидационной выборке получили модели:\n",
    "    - Случайный лес:\n",
    "        - f1 = 0.608\n",
    "        - roc_auc = 0.748\n",
    "        - repeat = 2         - повторение объектов класса 1\n",
    "        - fraction = 0.75    - коэффициент сэмплирования объектов класса 0\n",
    "    - Решающее дерево:\n",
    "        - f1 = 0.604\n",
    "        - roc_auc = 0.769\n",
    "        - repeat = 2\n",
    "        - fraction = 0.55"
   ]
  },
  {
   "cell_type": "markdown",
   "metadata": {},
   "source": [
    "# 4. Тестирование модели"
   ]
  },
  {
   "cell_type": "markdown",
   "metadata": {},
   "source": [
    "- Проведём обучение полученных моделей на всех доступных данных (обучающие + валидационные), предварительно сбалансировав классы с найденными ранее коэффициентами repeat и fraction. \n",
    "- Вычислим метрики f1 и roc_auc на тестовой выборке."
   ]
  },
  {
   "cell_type": "markdown",
   "metadata": {},
   "source": [
    "**1) Модель \"Случайный лес\"**"
   ]
  },
  {
   "cell_type": "code",
   "execution_count": 33,
   "metadata": {},
   "outputs": [
    {
     "name": "stdout",
     "output_type": "stream",
     "text": [
      " f1 = 0.8, \n",
      " roc_auc = 0.88\n"
     ]
    }
   ],
   "source": [
    "features_upsampled, targetupsampled = upsample(features, target, 2)\n",
    "features_balanced, targetbalanced = downsample(features_upsampled, targetupsampled, 0.75)\n",
    "model_rfc_final = RandomForestClassifier(random_state=123,\n",
    "                                         n_estimators=33,\n",
    "                                         max_depth=12,\n",
    "                                         min_samples_split=3,\n",
    "                                         min_samples_leaf=1)\n",
    "model_rfc_final.fit(features_balanced, targetbalanced)\n",
    "predictions = model_rfc_final.predict(features_test)\n",
    "f1 = f1_score(target_test, predictions)\n",
    "roc_auc = roc_auc_score(target_test, predictions)\n",
    "print(' f1 = {}, \\n roc_auc = {}'.format(round(f1,2), round(roc_auc,2)))"
   ]
  },
  {
   "cell_type": "markdown",
   "metadata": {},
   "source": [
    "**2) Модель \"Решающее дерево\"**"
   ]
  },
  {
   "cell_type": "code",
   "execution_count": 34,
   "metadata": {},
   "outputs": [
    {
     "name": "stdout",
     "output_type": "stream",
     "text": [
      " f1 = 0.65, \n",
      " roc_auc = 0.81\n"
     ]
    }
   ],
   "source": [
    "features_upsampled, targetupsampled = upsample(features, target, 2)\n",
    "features_balanced, targetbalanced = downsample(features_upsampled, targetupsampled, 0.55)\n",
    "model_dtc_final = DecisionTreeClassifier(random_state=123,\n",
    "                                         max_depth=8,\n",
    "                                         min_samples_split=2,\n",
    "                                         min_samples_leaf=4)\n",
    "model_dtc_final.fit(features_balanced, targetbalanced)\n",
    "predictions = model_dtc_final.predict(features_test)\n",
    "f1 = f1_score(target_test, predictions)\n",
    "roc_auc = roc_auc_score(target_test, predictions)\n",
    "print(' f1 = {}, \\n roc_auc = {}'.format(round(f1,2), round(roc_auc,2)))"
   ]
  },
  {
   "cell_type": "markdown",
   "metadata": {},
   "source": [
    "### Выводы"
   ]
  },
  {
   "cell_type": "markdown",
   "metadata": {},
   "source": [
    "- Удовлетворяющее техническому заданию значение метрики f1 (на тестовой выборке) удалось получить на двух моделях:\n",
    "    - Случайный лес\n",
    "        f1 = 0.8\n",
    "        roc_auc = 0.88\n",
    "    - Решающее дерево\n",
    "        f1 = 0.65\n",
    "        roc_auc = 0.81\n",
    "- При этом метрика f1 выше у модели Случайный лес, а roc_auc выше у Решающего дерева."
   ]
  },
  {
   "cell_type": "markdown",
   "metadata": {},
   "source": [
    "**1) Модель \"Случайный лес\"**"
   ]
  },
  {
   "cell_type": "code",
   "execution_count": 40,
   "metadata": {},
   "outputs": [
    {
     "name": "stdout",
     "output_type": "stream",
     "text": [
      " f1 = 0.63, \n",
      " roc_auc = 0.76\n"
     ]
    }
   ],
   "source": [
    "features_train_upsampled, target_train_upsampled = upsample(features_train, target_train, 2)\n",
    "features_train_balanced, target_train_balanced = downsample(features_train_upsampled, target_train_upsampled, 0.75)\n",
    "model_rfc_final = RandomForestClassifier(random_state=123,\n",
    "                                         n_estimators=33,\n",
    "                                         max_depth=12,\n",
    "                                         min_samples_split=3,\n",
    "                                         min_samples_leaf=1)\n",
    "model_rfc_final.fit(features_train_balanced, target_train_balanced)\n",
    "predictions = model_rfc_final.predict(features_test)\n",
    "f1 = f1_score(target_test, predictions)\n",
    "roc_auc = roc_auc_score(target_test, predictions)\n",
    "print(' f1 = {}, \\n roc_auc = {}'.format(round(f1,2), round(roc_auc,2)))"
   ]
  },
  {
   "cell_type": "markdown",
   "metadata": {},
   "source": [
    "**2) Модель \"Решающее дерево\"**"
   ]
  },
  {
   "cell_type": "code",
   "execution_count": 36,
   "metadata": {},
   "outputs": [
    {
     "name": "stdout",
     "output_type": "stream",
     "text": [
      " f1 = 0.62, \n",
      " roc_auc = 0.78\n"
     ]
    }
   ],
   "source": [
    "features_train_upsampled, target_train_upsampled = upsample(features_train, target_train, 2)\n",
    "features_train_balanced, target_train_balanced = downsample(features_train_upsampled, target_train_upsampled, 0.55)\n",
    "model_dtc_final = DecisionTreeClassifier(random_state=123,\n",
    "                                         max_depth=8,\n",
    "                                         min_samples_split=2,\n",
    "                                         min_samples_leaf=4)\n",
    "model_dtc_final.fit(features_train_balanced, target_train_balanced)\n",
    "predictions = model_dtc_final.predict(features_test)\n",
    "f1 = f1_score(target_test, predictions)\n",
    "roc_auc = roc_auc_score(target_test, predictions)\n",
    "print(' f1 = {}, \\n roc_auc = {}'.format(round(f1,2), round(roc_auc,2)))"
   ]
  },
  {
   "cell_type": "markdown",
   "metadata": {},
   "source": [
    "# 5. Общий вывод"
   ]
  },
  {
   "cell_type": "markdown",
   "metadata": {},
   "source": [
    "- Произведена предобработка данных. \n",
    "    - Числовые признаки приведены к стандартному виду (среднее = 0, стандартное отклонение = 1). Категориальные признаки преобразованы методом One-Hot Encoder.\n",
    "    - Целевой признак распределён в сооотношении **4:1**\n",
    "    - В признаке `Tenure` обнаружено около 10% пропусков. Попытка построить классификационную модель для заполнения пропусков не принесла существенных результатов (качество модели 12%, при случайном заполнении 9%). Данный признак преобразован прямым кодированием One-Hot Encoder.\n",
    "- Проведён анализ моделей без учёта дисбаланса классов.\n",
    "    - Исходные данные разделены на обучающую, валидационную и тестовую выборки в соотношении 3:1:1 соответственно\n",
    "    - Обучены модели \"Решающее Дерево\", \"Случайный лес\", \"Логистическая Регрессия\" без учёта дисбаланса классов. Максимальное значение метрики **f1 = 0.58** получено при обучении модели случайного леса.\n",
    "    - Качество моделей также оценено по метрике roc_auc. Максимальное значение метрики **roc_auc = 0.71** достигнуто при обучении модели случайного леса. \n",
    "    - Метрики f1 и roc_auc достигли максимальных значений при одинаковых настройках гиперпараметров.\n",
    "- Проведён анализ дисбаланса классов\n",
    "    - Взвешивание классов с помощью параметра class_weight не дало значительного увеличения метрики f1.\n",
    "    - Upsampling положительного класса и downsampling отрицательного класса дали необходимый прирост точности моделей. \n",
    "    - Необходимое значение **f1 на валидационной выборке** получили модели:\n",
    "        - **Случайный лес**:\n",
    "            - **f1 = 0.608**\n",
    "            - **roc_auc = 0.748**\n",
    "        - **Решающее дерево**:\n",
    "            - **f1 = 0.604**\n",
    "            - **roc_auc = 0.769**\n",
    "- Проведено тестирование полученных моделей на тестовой выборке:\n",
    "    - Значение метрики **f1 на тестовой выборке**:\n",
    "        - **Случайный лес**:\n",
    "            - **f1 = 0.8**\n",
    "            - **roc_auc = 0.88**\n",
    "        - **Решающее дерево**:\n",
    "            - **f1 = 0.65**\n",
    "            - **roc_auc = 0.81**\n",
    "    - Оба показателя выше у случайного леса"
   ]
  }
 ],
 "metadata": {
  "ExecuteTimeLog": [
   {
    "duration": 44,
    "start_time": "2022-11-05T21:36:43.719Z"
   },
   {
    "duration": 1525,
    "start_time": "2022-11-05T21:36:49.521Z"
   },
   {
    "duration": 100,
    "start_time": "2022-11-05T21:36:51.048Z"
   },
   {
    "duration": 30,
    "start_time": "2022-11-05T21:36:54.500Z"
   },
   {
    "duration": 48,
    "start_time": "2022-11-05T21:36:57.436Z"
   },
   {
    "duration": 104,
    "start_time": "2022-11-05T21:37:05.443Z"
   },
   {
    "duration": 1265,
    "start_time": "2022-11-05T21:37:15.772Z"
   },
   {
    "duration": 62,
    "start_time": "2022-11-05T21:37:17.038Z"
   },
   {
    "duration": 4,
    "start_time": "2022-11-05T21:37:17.102Z"
   },
   {
    "duration": 5,
    "start_time": "2022-11-05T21:37:17.108Z"
   },
   {
    "duration": 1322,
    "start_time": "2022-11-05T21:37:17.115Z"
   },
   {
    "duration": 7,
    "start_time": "2022-11-05T21:37:18.438Z"
   },
   {
    "duration": 20,
    "start_time": "2022-11-05T21:37:18.446Z"
   },
   {
    "duration": 12,
    "start_time": "2022-11-05T21:37:18.468Z"
   },
   {
    "duration": 4,
    "start_time": "2022-11-05T21:37:18.481Z"
   },
   {
    "duration": 969,
    "start_time": "2022-11-05T21:37:18.487Z"
   },
   {
    "duration": 10,
    "start_time": "2022-11-05T21:37:19.458Z"
   },
   {
    "duration": 4,
    "start_time": "2022-11-05T21:37:19.470Z"
   },
   {
    "duration": 17,
    "start_time": "2022-11-05T21:37:19.476Z"
   },
   {
    "duration": 38,
    "start_time": "2022-11-05T21:37:19.495Z"
   },
   {
    "duration": 4,
    "start_time": "2022-11-05T21:37:19.535Z"
   },
   {
    "duration": 15,
    "start_time": "2022-11-05T21:37:19.543Z"
   },
   {
    "duration": 9,
    "start_time": "2022-11-05T21:37:19.560Z"
   },
   {
    "duration": 9,
    "start_time": "2022-11-05T21:37:19.571Z"
   },
   {
    "duration": 10154,
    "start_time": "2022-11-05T21:37:19.581Z"
   },
   {
    "duration": 7,
    "start_time": "2022-11-05T21:37:29.737Z"
   },
   {
    "duration": 61354,
    "start_time": "2022-11-05T21:37:29.745Z"
   },
   {
    "duration": 50727,
    "start_time": "2022-11-05T21:38:31.100Z"
   },
   {
    "duration": 4,
    "start_time": "2022-11-05T21:39:21.921Z"
   },
   {
    "duration": 11,
    "start_time": "2022-11-05T21:39:21.927Z"
   },
   {
    "duration": 87,
    "start_time": "2022-11-05T21:39:21.941Z"
   },
   {
    "duration": 10611,
    "start_time": "2022-11-05T21:39:22.029Z"
   },
   {
    "duration": 4,
    "start_time": "2022-11-05T21:39:32.642Z"
   },
   {
    "duration": 17,
    "start_time": "2022-11-05T21:39:32.648Z"
   },
   {
    "duration": 19,
    "start_time": "2022-11-05T21:39:32.666Z"
   },
   {
    "duration": 63162,
    "start_time": "2022-11-05T21:39:32.687Z"
   },
   {
    "duration": 9563,
    "start_time": "2022-11-05T21:40:35.850Z"
   },
   {
    "duration": 66,
    "start_time": "2022-11-08T15:52:19.101Z"
   },
   {
    "duration": 48,
    "start_time": "2022-11-08T16:02:50.079Z"
   },
   {
    "duration": 1583,
    "start_time": "2022-11-08T16:03:01.821Z"
   },
   {
    "duration": 378,
    "start_time": "2022-11-08T16:03:03.406Z"
   },
   {
    "duration": 4,
    "start_time": "2022-11-08T16:03:03.786Z"
   },
   {
    "duration": 7,
    "start_time": "2022-11-08T16:03:03.792Z"
   },
   {
    "duration": 1485,
    "start_time": "2022-11-08T16:03:03.801Z"
   },
   {
    "duration": 10,
    "start_time": "2022-11-08T16:03:05.289Z"
   },
   {
    "duration": 14,
    "start_time": "2022-11-08T16:03:05.300Z"
   },
   {
    "duration": 34,
    "start_time": "2022-11-08T16:03:05.316Z"
   },
   {
    "duration": 6,
    "start_time": "2022-11-08T16:03:05.352Z"
   },
   {
    "duration": 950,
    "start_time": "2022-11-08T16:03:05.362Z"
   },
   {
    "duration": 10,
    "start_time": "2022-11-08T16:03:06.313Z"
   },
   {
    "duration": 7,
    "start_time": "2022-11-08T16:03:06.325Z"
   },
   {
    "duration": 19,
    "start_time": "2022-11-08T16:03:06.345Z"
   },
   {
    "duration": 14,
    "start_time": "2022-11-08T16:03:06.366Z"
   },
   {
    "duration": 4,
    "start_time": "2022-11-08T16:03:06.382Z"
   },
   {
    "duration": 7,
    "start_time": "2022-11-08T16:03:06.388Z"
   },
   {
    "duration": 5,
    "start_time": "2022-11-08T16:03:06.396Z"
   },
   {
    "duration": 13,
    "start_time": "2022-11-08T16:03:06.403Z"
   },
   {
    "duration": 11189,
    "start_time": "2022-11-08T16:03:06.417Z"
   },
   {
    "duration": 7,
    "start_time": "2022-11-08T16:03:17.608Z"
   },
   {
    "duration": 67809,
    "start_time": "2022-11-08T16:03:17.616Z"
   },
   {
    "duration": 56224,
    "start_time": "2022-11-08T16:04:25.427Z"
   },
   {
    "duration": 92,
    "start_time": "2022-11-08T16:05:21.655Z"
   },
   {
    "duration": 4,
    "start_time": "2022-11-08T16:05:21.749Z"
   },
   {
    "duration": 23,
    "start_time": "2022-11-08T16:05:21.754Z"
   },
   {
    "duration": 11918,
    "start_time": "2022-11-08T16:05:21.779Z"
   },
   {
    "duration": 5,
    "start_time": "2022-11-08T16:05:33.699Z"
   },
   {
    "duration": 27,
    "start_time": "2022-11-08T16:05:33.707Z"
   },
   {
    "duration": 43,
    "start_time": "2022-11-08T16:05:33.736Z"
   },
   {
    "duration": 69268,
    "start_time": "2022-11-08T16:05:33.781Z"
   },
   {
    "duration": 10863,
    "start_time": "2022-11-08T16:06:43.053Z"
   },
   {
    "duration": 151649,
    "start_time": "2022-11-08T16:06:53.919Z"
   },
   {
    "duration": 301,
    "start_time": "2022-11-08T16:09:25.570Z"
   },
   {
    "duration": 48,
    "start_time": "2022-11-08T16:09:25.873Z"
   },
   {
    "duration": 223,
    "start_time": "2022-11-08T16:09:25.923Z"
   },
   {
    "duration": 36,
    "start_time": "2022-11-08T16:09:26.148Z"
   },
   {
    "duration": 255,
    "start_time": "2022-11-08T16:22:18.175Z"
   },
   {
    "duration": 268,
    "start_time": "2022-11-08T16:22:22.646Z"
   },
   {
    "duration": 172,
    "start_time": "2022-11-08T16:22:26.699Z"
   },
   {
    "duration": 196,
    "start_time": "2022-11-08T16:22:31.725Z"
   }
  ],
  "kernelspec": {
   "display_name": "Python 3 (ipykernel)",
   "language": "python",
   "name": "python3"
  },
  "language_info": {
   "codemirror_mode": {
    "name": "ipython",
    "version": 3
   },
   "file_extension": ".py",
   "mimetype": "text/x-python",
   "name": "python",
   "nbconvert_exporter": "python",
   "pygments_lexer": "ipython3",
   "version": "3.9.12"
  },
  "toc": {
   "base_numbering": 1,
   "nav_menu": {},
   "number_sections": true,
   "sideBar": true,
   "skip_h1_title": true,
   "title_cell": "Содержание",
   "title_sidebar": "Contents",
   "toc_cell": true,
   "toc_position": {
    "height": "calc(100% - 180px)",
    "left": "10px",
    "top": "150px",
    "width": "181px"
   },
   "toc_section_display": true,
   "toc_window_display": true
  }
 },
 "nbformat": 4,
 "nbformat_minor": 2
}
